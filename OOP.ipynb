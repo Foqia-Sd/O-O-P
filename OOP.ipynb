{
  "nbformat": 4,
  "nbformat_minor": 0,
  "metadata": {
    "colab": {
      "provenance": []
    },
    "kernelspec": {
      "name": "python3",
      "display_name": "Python 3"
    },
    "language_info": {
      "name": "python"
    }
  },
  "cells": [
    {
      "cell_type": "code",
      "execution_count": 7,
      "metadata": {
        "colab": {
          "base_uri": "https://localhost:8080/"
        },
        "id": "1Ds5_zMDuQM1",
        "outputId": "59fe9392-6cc3-4fd6-8d06-ac52a2019085"
      },
      "outputs": [
        {
          "output_type": "stream",
          "name": "stdout",
          "text": [
            "Hamza House No. House No. 456\n",
            "Ding Dong! \n",
            "Foqia House No. House No. 123\n"
          ]
        }
      ],
      "source": [
        "# This is class\n",
        "class House:\n",
        "  address: str\n",
        "  no_of_doors: int = 4\n",
        "  no_of_rooms: int = 2\n",
        "\n",
        "  def __init__(self, address: str):\n",
        "    self.address = address\n",
        "\n",
        "  def ring_bell(self):\n",
        "    print(\"Ding Dong! \")\n",
        "\n",
        "\n",
        "# This is an object\n",
        "foqia_house = House(\"House No. 123\")\n",
        "hamzah_house = House(\"House No. 456\")\n",
        "\n",
        "# print(foqia_house.address)\n",
        "# print(foqia_house.no_of_doors)\n",
        "# print(foqia_house.no_of_rooms)\n",
        "\n",
        "print(\"Hamza House No.\", hamzah_house.address)\n",
        "hamzah_house.ring_bell\n",
        "print(\"Foqia House No.\", foqia_house.address)\n",
        "\n",
        "\n"
      ]
    }
  ]
}